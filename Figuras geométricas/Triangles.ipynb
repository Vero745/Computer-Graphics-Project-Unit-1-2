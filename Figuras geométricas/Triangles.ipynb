{
 "cells": [
  {
   "cell_type": "code",
   "execution_count": 160,
   "id": "impressive-turkish",
   "metadata": {},
   "outputs": [],
   "source": [
    "import matplotlib.pyplot as plt\n",
    "import numpy as np"
   ]
  },
  {
   "cell_type": "markdown",
   "id": "corrected-validation",
   "metadata": {},
   "source": [
    "# Rectangle Triangle"
   ]
  },
  {
   "cell_type": "code",
   "execution_count": 190,
   "id": "acoustic-religion",
   "metadata": {},
   "outputs": [
    {
     "data": {
      "text/plain": [
       "(array([[28, 29, 29, 28, 28]]), array([[28, 28, 29, 29, 28]]))"
      ]
     },
     "execution_count": 190,
     "metadata": {},
     "output_type": "execute_result"
    }
   ],
   "source": [
    "x = 28\n",
    "y = 28\n",
    "\n",
    "\n",
    "\n",
    "def generadorDeCoordenadasTriangle(x,y): \n",
    "    \n",
    "    #x = np.array([4, 8, 8,  4, 4])\n",
    "    #y = np.array([6, 6, 12, 12, 6])\n",
    "\n",
    "    coo1 = [0,2,3,4,5]\n",
    "    coo2 = [0,2,3,4,5]\n",
    "    \n",
    "    for i in range(1):\n",
    "        if x==y:\n",
    "            coo1.insert(0,x)\n",
    "            coo1.pop(1)\n",
    "            coo2.insert(0,y)\n",
    "            coo2.pop(1)\n",
    "            \n",
    "            coo1.insert(1,x+1)\n",
    "            coo1.pop(2)\n",
    "            coo2.insert(1,y)\n",
    "            coo2.pop(2)\n",
    "            \n",
    "            coo1.insert(2,x+1)\n",
    "            coo1.pop(3)\n",
    "            coo2.insert(2,y+1)\n",
    "            coo2.pop(3)\n",
    "            #x = np.array([4, 5, 5, 4, 4])\n",
    "            #y = np.array([4, 4, 5, 5, 4])\n",
    "            \n",
    "            coo1.insert(3,x)\n",
    "            coo1.pop(4)\n",
    "            coo2.insert(3,y+1)\n",
    "            coo2.pop(4)\n",
    "            \n",
    "            coo1.insert(4,x)\n",
    "            coo1.pop(5)\n",
    "            coo2.insert(4,y)\n",
    "            coo2.pop(5)\n",
    "            \n",
    "    x = np.array([coo1])\n",
    "    y = np.array([coo2])\n",
    "    \n",
    "    return x, y \n",
    "\n",
    "generadorDeCoordenadasTriangle(x,y)"
   ]
  },
  {
   "cell_type": "code",
   "execution_count": 191,
   "id": "placed-shelf",
   "metadata": {},
   "outputs": [],
   "source": [
    "cooS = generadorDeCoordenadasTriangle(x,y)"
   ]
  },
  {
   "cell_type": "code",
   "execution_count": 192,
   "id": "norman-schema",
   "metadata": {},
   "outputs": [],
   "source": [
    "x = cooS[0]\n",
    "y = cooS[1]"
   ]
  },
  {
   "cell_type": "code",
   "execution_count": 193,
   "id": "protecting-metabolism",
   "metadata": {},
   "outputs": [],
   "source": [
    "xelem1 = x[0,0]\n",
    "xelem2 = x[0,1]\n",
    "xelem3 = x[0,2]\n",
    "xelem4 = x[0,3]\n",
    "xelem5 = x[0,4]"
   ]
  },
  {
   "cell_type": "code",
   "execution_count": 194,
   "id": "elegant-importance",
   "metadata": {},
   "outputs": [],
   "source": [
    "yelem1 = y[0,0]\n",
    "yelem2 = y[0,1]\n",
    "yelem3 = y[0,2]\n",
    "yelem4 = y[0,3]\n",
    "yelem5 = y[0,4]"
   ]
  },
  {
   "cell_type": "code",
   "execution_count": 195,
   "id": "demanding-adapter",
   "metadata": {},
   "outputs": [],
   "source": [
    "x = np.array([xelem1,xelem2,xelem3,xelem4,xelem5])\n",
    "y = np.array([yelem1,yelem2,yelem3,yelem4,yelem5])"
   ]
  },
  {
   "cell_type": "code",
   "execution_count": 196,
   "id": "brazilian-globe",
   "metadata": {},
   "outputs": [
    {
     "data": {
      "image/png": "[encoded data removed]",
      "text/plain": [
       "<Figure size 432x288 with 1 Axes>"
      ]
     },
     "metadata": {
      "needs_background": "light"
     },
     "output_type": "display_data"
    }
   ],
   "source": [
    "def aristasUno(x,y):\n",
    "    for i in x: \n",
    "        x = x + 1\n",
    "        plt.plot(x, y)\n",
    "        \n",
    "    for i in y: \n",
    "        y = y + 1\n",
    "        plt.plot(x, y)\n",
    "    \n",
    "\n",
    "aristasUno(x,y)\n",
    "        \n",
    "    \n",
    "for i in range(4): \n",
    "    x = x + 1\n",
    "    y = y + 1 \n",
    "    plt.plot(x,y)\n",
    "    \n",
    "\n",
    "    \n",
    "plt.show()"
   ]
  },
  {
   "cell_type": "markdown",
   "id": "occupied-thriller",
   "metadata": {},
   "source": [
    "# Equilateral Triangle"
   ]
  },
  {
   "cell_type": "code",
   "execution_count": 189,
   "id": "correct-driver",
   "metadata": {},
   "outputs": [
    {
     "data": {
      "text/plain": [
       "(array([[-16, -15, -15, -16, -16]]), array([[-16, -16, -15, -15, -16]]))"
      ]
     },
     "execution_count": 189,
     "metadata": {},
     "output_type": "execute_result"
    }
   ],
   "source": [
    "x = -16\n",
    "y = -16\n",
    "\n",
    "\n",
    "\n",
    "def generadorDeCoordenadasEquilateralTriangle(x,y): \n",
    "    \n",
    "    #x = np.array([4, 8, 8,  4, 4])\n",
    "    #y = np.array([6, 6, 12, 12, 6])\n",
    "\n",
    "    coo1 = [0,2,3,4,5]\n",
    "    coo2 = [0,2,3,4,5]\n",
    "    \n",
    "    for i in range(1):\n",
    "        if x==y:\n",
    "            coo1.insert(0,x)\n",
    "            coo1.pop(1)\n",
    "            coo2.insert(0,y)\n",
    "            coo2.pop(1)\n",
    "            \n",
    "            coo1.insert(1,x+1)\n",
    "            coo1.pop(2)\n",
    "            coo2.insert(1,y)\n",
    "            coo2.pop(2)\n",
    "            \n",
    "            coo1.insert(2,x+1)\n",
    "            coo1.pop(3)\n",
    "            coo2.insert(2,y+1)\n",
    "            coo2.pop(3)\n",
    "            #x = np.array([4, 5, 5, 4, 4])\n",
    "            #y = np.array([4, 4, 5, 5, 4])\n",
    "            \n",
    "            coo1.insert(3,x)\n",
    "            coo1.pop(4)\n",
    "            coo2.insert(3,y+1)\n",
    "            coo2.pop(4)\n",
    "            \n",
    "            coo1.insert(4,x)\n",
    "            coo1.pop(5)\n",
    "            coo2.insert(4,y)\n",
    "            coo2.pop(5)\n",
    "            \n",
    "    x = np.array([coo1])\n",
    "    y = np.array([coo2])\n",
    "    \n",
    "    return x, y \n",
    "\n",
    "generadorDeCoordenadasEquilateralTriangle(x,y)"
   ]
  },
  {
   "cell_type": "code",
   "execution_count": 176,
   "id": "robust-cabinet",
   "metadata": {},
   "outputs": [],
   "source": [
    "cooS = generadorDeCoordenadasTriangle(x,y)"
   ]
  },
  {
   "cell_type": "code",
   "execution_count": 177,
   "id": "sufficient-domain",
   "metadata": {},
   "outputs": [],
   "source": [
    "x = cooS[0]\n",
    "y = cooS[1]"
   ]
  },
  {
   "cell_type": "code",
   "execution_count": 178,
   "id": "expected-dependence",
   "metadata": {},
   "outputs": [],
   "source": [
    "xelem1 = x[0,0]\n",
    "xelem2 = x[0,1]\n",
    "xelem3 = x[0,2]\n",
    "xelem4 = x[0,3]\n",
    "xelem5 = x[0,4]"
   ]
  },
  {
   "cell_type": "code",
   "execution_count": 179,
   "id": "unnecessary-attendance",
   "metadata": {},
   "outputs": [],
   "source": [
    "yelem1 = y[0,0]\n",
    "yelem2 = y[0,1]\n",
    "yelem3 = y[0,2]\n",
    "yelem4 = y[0,3]\n",
    "yelem5 = y[0,4]"
   ]
  },
  {
   "cell_type": "code",
   "execution_count": 180,
   "id": "ordinary-translator",
   "metadata": {},
   "outputs": [],
   "source": [
    "x = np.array([xelem1,xelem2,xelem3,xelem4,xelem5])\n",
    "y = np.array([yelem1,yelem2,yelem3,yelem4,yelem5])"
   ]
  },
  {
   "cell_type": "code",
   "execution_count": 181,
   "id": "published-holder",
   "metadata": {},
   "outputs": [
    {
     "data": {
      "image/png": "[encoded data removed]",
      "text/plain": [
       "<Figure size 432x288 with 1 Axes>"
      ]
     },
     "metadata": {
      "needs_background": "light"
     },
     "output_type": "display_data"
    }
   ],
   "source": [
    "def aristasUno(x,y):\n",
    "    for i in range(4): \n",
    "        x = x +1 \n",
    "        plt.plot(x, y)\n",
    "        \n",
    "    for i in range(5): \n",
    "        x = x + 1 \n",
    "        plt.plot(x, y)\n",
    "        \n",
    "aristasUno(x,y)\n",
    "\n",
    "for i in range(5): \n",
    "    x = x + 1\n",
    "    y = y + 1 \n",
    "    plt.plot(x,y)\n",
    "    \n",
    "for i in range(4): \n",
    "    x = x + 1\n",
    "    y = y - 1 \n",
    "    plt.plot(x,y)\n",
    "plt.show()"
   ]
  }
 ],
 "metadata": {
  "kernelspec": {
   "display_name": "Python 3",
   "language": "python",
   "name": "python3"
  },
  "language_info": {
   "codemirror_mode": {
    "name": "ipython",
    "version": 3
   },
   "file_extension": ".py",
   "mimetype": "text/x-python",
   "name": "python",
   "nbconvert_exporter": "python",
   "pygments_lexer": "ipython3",
   "version": "3.8.8"
  }
 },
 "nbformat": 4,
 "nbformat_minor": 5
}
