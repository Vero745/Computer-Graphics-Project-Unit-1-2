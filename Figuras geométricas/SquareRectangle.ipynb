{
 "cells": [
  {
   "cell_type": "code",
   "execution_count": 648,
   "metadata": {},
   "outputs": [],
   "source": [
    "import matplotlib.pyplot as plt\n",
    "import numpy as np"
   ]
  },
  {
   "cell_type": "markdown",
   "metadata": {},
   "source": [
    "# Square"
   ]
  },
  {
   "cell_type": "code",
   "execution_count": 649,
   "metadata": {},
   "outputs": [],
   "source": [
    "x = -8\n",
    "y = -8\n",
    "\n",
    "#x = np.array([1, 2, 2, 1, 1])\n",
    "#y = np.array([1, 1, 2, 2, 1])\n",
    "\n",
    "def generadorDeCoordenadasSquare(x,y): \n",
    "    \n",
    "    coo1 = [0,2,3,4,5]\n",
    "    coo2 = [0,2,3,4,5]\n",
    "    \n",
    "    for i in range(1):\n",
    "        if x == y:\n",
    "            coo1.insert(0,x)\n",
    "            coo1.pop(1)\n",
    "            coo2.insert(0,x)\n",
    "            coo2.pop(1)\n",
    "            \n",
    "            coo1.insert(1,x+1)\n",
    "            coo1.pop(2)\n",
    "            coo2.insert(1,x)\n",
    "            coo2.pop(2)\n",
    "            \n",
    "            coo1.insert(2,x+1)\n",
    "            coo1.pop(3)\n",
    "            coo2.insert(2,x+1)\n",
    "            coo2.pop(3)\n",
    "            \n",
    "            coo1.insert(3,x)\n",
    "            coo1.pop(4)\n",
    "            coo2.insert(3,x+1)\n",
    "            coo2.pop(4)\n",
    "            \n",
    "            coo1.insert(4,x)\n",
    "            coo1.pop(5)\n",
    "            coo2.insert(4,x)\n",
    "            coo2.pop(5)\n",
    "            \n",
    "    x = np.array([coo1])\n",
    "    y = np.array([coo2])\n",
    "            \n",
    "    #print(coo1==x)\n",
    "    #print(coo2==y)\n",
    "    \n",
    "    #print(\"Lista: \", type(coo1))\n",
    "    #print(\"Arreglo\", type(x))\n",
    "    \n",
    "    return x, y "
   ]
  },
  {
   "cell_type": "code",
   "execution_count": 650,
   "metadata": {},
   "outputs": [
    {
     "data": {
      "text/plain": [
       "(array([[-8, -7, -7, -8, -8]]), array([[-8, -8, -7, -7, -8]]))"
      ]
     },
     "execution_count": 650,
     "metadata": {},
     "output_type": "execute_result"
    }
   ],
   "source": [
    "generadorDeCoordenadasSquare(x,y)"
   ]
  },
  {
   "cell_type": "code",
   "execution_count": 651,
   "metadata": {},
   "outputs": [],
   "source": [
    "cooS = generadorDeCoordenadasSquare(x,y) "
   ]
  },
  {
   "cell_type": "code",
   "execution_count": 652,
   "metadata": {},
   "outputs": [],
   "source": [
    "x = cooS[0]\n",
    "y = cooS[1]"
   ]
  },
  {
   "cell_type": "code",
   "execution_count": 653,
   "metadata": {},
   "outputs": [],
   "source": [
    "xelem1 = x[0,0]\n",
    "xelem2 = x[0,1]\n",
    "xelem3 = x[0,2]\n",
    "xelem4 = x[0,3]\n",
    "xelem5 = x[0,4]"
   ]
  },
  {
   "cell_type": "code",
   "execution_count": 654,
   "metadata": {},
   "outputs": [],
   "source": [
    "yelem1 = y[0,0]\n",
    "yelem2 = y[0,1]\n",
    "yelem3 = y[0,2]\n",
    "yelem4 = y[0,3]\n",
    "yelem5 = y[0,4]"
   ]
  },
  {
   "cell_type": "code",
   "execution_count": 655,
   "metadata": {},
   "outputs": [],
   "source": [
    "x = np.array([xelem1,xelem2,xelem3,xelem4,xelem5])\n",
    "y = np.array([yelem1,yelem2,yelem3,yelem4,yelem5])"
   ]
  },
  {
   "cell_type": "code",
   "execution_count": 656,
   "metadata": {
    "scrolled": true
   },
   "outputs": [
    {
     "data": {
      "image/png": "[encoded data removed]",
      "text/plain": [
       "<Figure size 432x288 with 1 Axes>"
      ]
     },
     "metadata": {
      "needs_background": "light"
     },
     "output_type": "display_data"
    }
   ],
   "source": [
    "#x = np.array([1, 2, 2, 1, 1])\n",
    "#y = np.array([1, 1, 2, 2, 1])\n",
    "\n",
    "#x = np.array([4, 5, 5, 4, 4])\n",
    "#y = np.array([4, 4, 5, 5, 4])\n",
    "\n",
    "\n",
    "def aristasUno(x,y):\n",
    "    for i in x: \n",
    "        x = x + 1\n",
    "        plt.plot(x, y)\n",
    "        \n",
    "    for i in y: \n",
    "        y = y + 1\n",
    "        plt.plot(x, y)\n",
    "    \n",
    "    for i in x: \n",
    "        x = x - 1\n",
    "        plt.plot(x, y)\n",
    "    for i in y: \n",
    "        y = y - 1\n",
    "        plt.plot(x, y)\n",
    "\n",
    "    plt.show()\n",
    "aristasUno(x,y)"
   ]
  },
  {
   "cell_type": "markdown",
   "metadata": {},
   "source": [
    "# Rectangle "
   ]
  },
  {
   "cell_type": "code",
   "execution_count": 657,
   "metadata": {},
   "outputs": [
    {
     "data": {
      "text/plain": [
       "(array([[4, 8, 8, 4, 4]]), array([[ 6,  6, 12, 12,  6]]))"
      ]
     },
     "execution_count": 657,
     "metadata": {},
     "output_type": "execute_result"
    }
   ],
   "source": [
    "x = 4\n",
    "y = 6\n",
    "\n",
    "\n",
    "def generadorDeCoordenadasRectangle(x,y): \n",
    "    \n",
    "    #x = np.array([4, 8, 8,  4, 4])\n",
    "    #y = np.array([6, 6, 12, 12, 6])\n",
    "\n",
    "    coo1 = [0,2,3,4,5]\n",
    "    coo2 = [0,2,3,4,5]\n",
    "    \n",
    "    for i in range(1):\n",
    "        if (y-x)==2:\n",
    "            coo1.insert(0,x)\n",
    "            coo1.pop(1)\n",
    "            coo2.insert(0,y)\n",
    "            coo2.pop(1)\n",
    "            \n",
    "            coo1.insert(1,x+4)\n",
    "            coo1.pop(2)\n",
    "            coo2.insert(1,y)\n",
    "            coo2.pop(2)\n",
    "            \n",
    "            coo1.insert(2,x+4)\n",
    "            coo1.pop(3)\n",
    "            coo2.insert(2,y+6)\n",
    "            coo2.pop(3)\n",
    "            \n",
    "            coo1.insert(3,x)\n",
    "            coo1.pop(4)\n",
    "            coo2.insert(3,y+6)\n",
    "            coo2.pop(4)\n",
    "            \n",
    "            coo1.insert(4,x)\n",
    "            coo1.pop(5)\n",
    "            coo2.insert(4,y)\n",
    "            coo2.pop(5)\n",
    "            \n",
    "    x = np.array([coo1])\n",
    "    y = np.array([coo2])\n",
    "    \n",
    "    return x, y \n",
    "\n",
    "generadorDeCoordenadasRectangle(x,y)"
   ]
  },
  {
   "cell_type": "code",
   "execution_count": 658,
   "metadata": {},
   "outputs": [],
   "source": [
    "cooS = generadorDeCoordenadasRectangle(x,y)"
   ]
  },
  {
   "cell_type": "code",
   "execution_count": 659,
   "metadata": {},
   "outputs": [],
   "source": [
    "x = cooS[0]\n",
    "y = cooS[1]"
   ]
  },
  {
   "cell_type": "code",
   "execution_count": 660,
   "metadata": {},
   "outputs": [],
   "source": [
    "xelem1 = x[0,0]\n",
    "xelem2 = x[0,1]\n",
    "xelem3 = x[0,2]\n",
    "xelem4 = x[0,3]\n",
    "xelem5 = x[0,4]"
   ]
  },
  {
   "cell_type": "code",
   "execution_count": 661,
   "metadata": {},
   "outputs": [],
   "source": [
    "yelem1 = y[0,0]\n",
    "yelem2 = y[0,1]\n",
    "yelem3 = y[0,2]\n",
    "yelem4 = y[0,3]\n",
    "yelem5 = y[0,4]"
   ]
  },
  {
   "cell_type": "code",
   "execution_count": 662,
   "metadata": {},
   "outputs": [],
   "source": [
    "x = np.array([xelem1,xelem2,xelem3,xelem4,xelem5])\n",
    "y = np.array([yelem1,yelem2,yelem3,yelem4,yelem5])"
   ]
  },
  {
   "cell_type": "code",
   "execution_count": 663,
   "metadata": {},
   "outputs": [
    {
     "data": {
      "image/png": "[encoded data removed]",
      "text/plain": [
       "<Figure size 432x288 with 1 Axes>"
      ]
     },
     "metadata": {
      "needs_background": "light"
     },
     "output_type": "display_data"
    }
   ],
   "source": [
    "def aristasUno(x,y):\n",
    "    for i in x: \n",
    "        x = x + 4\n",
    "        plt.plot(x, y)\n",
    "        \n",
    "    for i in y: \n",
    "        y = y + 6\n",
    "        plt.plot(x, y)\n",
    "        \n",
    "    for i in x: \n",
    "        x = x - 4\n",
    "        plt.plot(x, y)\n",
    "    for i in y: \n",
    "        y = y - 6\n",
    "        plt.plot(x, y)\n",
    "\n",
    "\n",
    "    plt.show()\n",
    "aristasUno(x,y)"
   ]
  }
 ],
 "metadata": {
  "kernelspec": {
   "display_name": "Python 3",
   "language": "python",
   "name": "python3"
  },
  "language_info": {
   "codemirror_mode": {
    "name": "ipython",
    "version": 3
   },
   "file_extension": ".py",
   "mimetype": "text/x-python",
   "name": "python",
   "nbconvert_exporter": "python",
   "pygments_lexer": "ipython3",
   "version": "3.8.8"
  }
 },
 "nbformat": 4,
 "nbformat_minor": 4
}
